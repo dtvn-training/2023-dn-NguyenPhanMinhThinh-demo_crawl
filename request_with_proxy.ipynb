{
 "cells": [
  {
   "cell_type": "code",
   "execution_count": 25,
   "metadata": {},
   "outputs": [],
   "source": [
    "import requests\n",
    "import threading"
   ]
  },
  {
   "cell_type": "code",
   "execution_count": 26,
   "metadata": {},
   "outputs": [
    {
     "name": "stdout",
     "output_type": "stream",
     "text": [
      "['45.154.214.75:8080', '37.120.192.154:8080', '143.110.190.83:8080', '200.105.215.22:33630', '5.255.107.249:8080', '80.68.225.188:8080', '45.22.209.157:8888', '45.124.184.13:80', '45.154.24.154:8080', '155.0.72.251:3128', '']\n"
     ]
    }
   ],
   "source": [
    "with open(\"valid_proxy_list.txt\", \"r\") as f:\n",
    "    proxies = f.read().split('\\n')\n",
    "print(proxies)\n",
    "sites = [\"https://shopee.vn/\",\n",
    "       \"https://www.lazada.vn/\",\n",
    "       \"https://www.youtube.com/\"]"
   ]
  },
  {
   "cell_type": "code",
   "execution_count": 27,
   "metadata": {},
   "outputs": [
    {
     "name": "stdout",
     "output_type": "stream",
     "text": [
      "https://shopee.vn/\n",
      "Using the proxy: 45.154.214.75:8080\n"
     ]
    },
    {
     "name": "stdout",
     "output_type": "stream",
     "text": [
      "200\n",
      "https://www.lazada.vn/\n",
      "Using the proxy: 37.120.192.154:8080\n",
      "Failed\n",
      "https://www.youtube.com/\n",
      "Using the proxy: 143.110.190.83:8080\n",
      "Failed\n"
     ]
    }
   ],
   "source": [
    "def run():\n",
    "    for site in sites:\n",
    "        counter = 0\n",
    "        print(site)\n",
    "        while proxies[counter]:\n",
    "            try:\n",
    "                print(f\"Using the proxy: {proxies[counter]}\")\n",
    "                response = requests.get(site, proxies={\n",
    "                    \"http\": proxies[counter],\n",
    "                    \"https\": proxies[counter]\n",
    "                })\n",
    "                print(response.status_code)\n",
    "            except:\n",
    "                print('Failed')\n",
    "                continue\n",
    "            finally:\n",
    "                counter+=1\n",
    "threading.Thread(target=run).start()"
   ]
  }
 ],
 "metadata": {
  "kernelspec": {
   "display_name": "venv",
   "language": "python",
   "name": "python3"
  },
  "language_info": {
   "codemirror_mode": {
    "name": "ipython",
    "version": 3
   },
   "file_extension": ".py",
   "mimetype": "text/x-python",
   "name": "python",
   "nbconvert_exporter": "python",
   "pygments_lexer": "ipython3",
   "version": "3.12.0"
  }
 },
 "nbformat": 4,
 "nbformat_minor": 2
}
