{
 "cells": [
  {
   "cell_type": "code",
   "execution_count": 1,
   "metadata": {},
   "outputs": [],
   "source": [
    "import requests\n",
    "import json\n",
    "from bs4 import BeautifulSoup\n",
    "from driver import Driver"
   ]
  },
  {
   "cell_type": "code",
   "execution_count": 2,
   "metadata": {},
   "outputs": [],
   "source": [
    "url = 'https://www.formula1.com/en/drivers.html'\n",
    "response = requests.get(url)"
   ]
  },
  {
   "cell_type": "code",
   "execution_count": 3,
   "metadata": {},
   "outputs": [],
   "source": [
    "if response.status_code == 200:\n",
    "    soup = BeautifulSoup(response.content, 'html.parser')"
   ]
  },
  {
   "cell_type": "code",
   "execution_count": 4,
   "metadata": {},
   "outputs": [
    {
     "data": {
      "text/plain": [
       "['/en/drivers/max-verstappen.html',\n",
       " '/en/drivers/sergio-perez.html',\n",
       " '/en/drivers/lewis-hamilton.html',\n",
       " '/en/drivers/carlos-sainz.html',\n",
       " '/en/drivers/fernando-alonso.html',\n",
       " '/en/drivers/lando-norris.html',\n",
       " '/en/drivers/charles-leclerc.html',\n",
       " '/en/drivers/george-russell.html',\n",
       " '/en/drivers/oscar-piastri.html',\n",
       " '/en/drivers/pierre-gasly.html',\n",
       " '/en/drivers/lance-stroll.html',\n",
       " '/en/drivers/esteban-ocon.html',\n",
       " '/en/drivers/alexander-albon.html',\n",
       " '/en/drivers/valtteri-bottas.html',\n",
       " '/en/drivers/nico-hulkenberg.html',\n",
       " '/en/drivers/yuki-tsunoda.html',\n",
       " '/en/drivers/daniel-ricciardo.html',\n",
       " '/en/drivers/guanyu-zhou.html',\n",
       " '/en/drivers/kevin-magnussen.html',\n",
       " '/en/drivers/liam-lawson.html',\n",
       " '/en/drivers/logan-sargeant.html',\n",
       " '/en/drivers/nyck-de-vries.html']"
      ]
     },
     "execution_count": 4,
     "metadata": {},
     "output_type": "execute_result"
    }
   ],
   "source": [
    "href_elements = soup.find_all('a', href=True, class_ = 'listing-item--link')\n",
    "links = list()\n",
    "for link in href_elements:\n",
    "    href = link.get('href')\n",
    "    if href:\n",
    "        links.append(href) \n",
    "links"
   ]
  },
  {
   "cell_type": "code",
   "execution_count": 5,
   "metadata": {},
   "outputs": [
    {
     "name": "stderr",
     "output_type": "stream",
     "text": [
      "c:\\work_space\\PythonProject\\test02\\driver.py:39: GuessedAtParserWarning: No parser was explicitly specified, so I'm using the best available HTML parser for this system (\"html.parser\"). This usually isn't a problem, but if you run this code on another system, or in a different virtual environment, it may use a different parser and behave differently.\n",
      "\n",
      "The code that caused this warning is on line 39 of the file c:\\work_space\\PythonProject\\test02\\driver.py. To get rid of this warning, pass the additional argument 'features=\"html.parser\"' to the BeautifulSoup constructor.\n",
      "\n",
      "  soup = BeautifulSoup(response.content)\n"
     ]
    },
    {
     "name": "stdout",
     "output_type": "stream",
     "text": [
      "----------------------------------------\n",
      "\n",
      "{'name': 'Max Verstappen', 'team': 'Red Bull Racing', 'country': 'Netherlands', 'podiums': '95', 'points': '2502.5', 'grands_prix_entered': '182', 'world_championships': '3', 'highest_race_finish': '1 (x51)', 'highest_grid_position': '1', 'date_of_birth': '30/09/1997', 'place_of_birth': 'Hasselt, Belgium'}\n",
      "----------------------------------------\n",
      "\n",
      "{'name': 'Sergio Perez', 'team': 'Red Bull Racing', 'country': 'Mexico', 'podiums': '34', 'points': '1441', 'grands_prix_entered': '255', 'world_championships': 'N/A', 'highest_race_finish': '1 (x6)', 'highest_grid_position': '1', 'date_of_birth': '26/01/1990', 'place_of_birth': 'Guadalajara, Mexico'}\n",
      "----------------------------------------\n",
      "\n",
      "{'name': 'Lewis Hamilton', 'team': 'Mercedes', 'country': 'United Kingdom', 'podiums': '197', 'points': '4625.5', 'grands_prix_entered': '329', 'world_championships': '7', 'highest_race_finish': '1 (x103)', 'highest_grid_position': '1', 'date_of_birth': '07/01/1985', 'place_of_birth': 'Stevenage, England'}\n",
      "----------------------------------------\n",
      "\n",
      "{'name': 'Carlos Sainz', 'team': 'Ferrari', 'country': 'Spain', 'podiums': '18', 'points': '965.5', 'grands_prix_entered': '182', 'world_championships': 'N/A', 'highest_race_finish': '1 (x2)', 'highest_grid_position': '1', 'date_of_birth': '01/09/1994', 'place_of_birth': 'Madrid, Spain'}\n",
      "----------------------------------------\n",
      "\n",
      "{'name': 'Fernando Alonso', 'team': 'Aston Martin', 'country': 'Spain', 'podiums': '105', 'points': '2244', 'grands_prix_entered': '377', 'world_championships': '2', 'highest_race_finish': '1 (x32)', 'highest_grid_position': '1', 'date_of_birth': '29/07/1981', 'place_of_birth': 'Oviedo, Spain'}\n",
      "----------------------------------------\n",
      "\n",
      "{'name': 'Lando Norris', 'team': 'McLaren', 'country': 'United Kingdom', 'podiums': '12', 'points': '597', 'grands_prix_entered': '101', 'world_championships': 'N/A', 'highest_race_finish': '2 (x6)', 'highest_grid_position': '1', 'date_of_birth': '13/11/1999', 'place_of_birth': 'Bristol, England'}\n",
      "----------------------------------------\n",
      "\n",
      "{'name': 'Charles Leclerc', 'team': 'Ferrari', 'country': 'Monaco', 'podiums': '28', 'points': '1034', 'grands_prix_entered': '122', 'world_championships': 'N/A', 'highest_race_finish': '1 (x5)', 'highest_grid_position': '1', 'date_of_birth': '16/10/1997', 'place_of_birth': 'Monte Carlo, Monaco'}\n",
      "----------------------------------------\n",
      "\n",
      "{'name': 'George Russell', 'team': 'Mercedes', 'country': 'United Kingdom', 'podiums': '10', 'points': '445', 'grands_prix_entered': '101', 'world_championships': 'N/A', 'highest_race_finish': '1 (x1)', 'highest_grid_position': '1', 'date_of_birth': '15/02/1998', 'place_of_birth': \"King's Lynn, England\"}\n",
      "----------------------------------------\n",
      "\n",
      "{'name': 'Oscar Piastri', 'team': 'McLaren', 'country': 'Australia', 'podiums': '2', 'points': '87', 'grands_prix_entered': '19', 'world_championships': 'N/A', 'highest_race_finish': '2 (x1)', 'highest_grid_position': '2', 'date_of_birth': '06/04/2001', 'place_of_birth': 'Melbourne, Victoria'}\n",
      "----------------------------------------\n",
      "\n",
      "{'name': 'Pierre Gasly', 'team': 'Alpine', 'country': 'France', 'podiums': '4', 'points': '388', 'grands_prix_entered': '127', 'world_championships': 'N/A', 'highest_race_finish': '1 (x1)', 'highest_grid_position': '2', 'date_of_birth': '07/02/1996', 'place_of_birth': 'Rouen, France'}\n",
      "----------------------------------------\n",
      "\n",
      "{'name': 'Lance Stroll', 'team': 'Aston Martin', 'country': 'Canada', 'podiums': '3', 'points': '247', 'grands_prix_entered': '140', 'world_championships': 'N/A', 'highest_race_finish': '3 (x3)', 'highest_grid_position': '1', 'date_of_birth': '29/10/1998', 'place_of_birth': 'Montreal, Canada'}\n",
      "----------------------------------------\n",
      "\n",
      "{'name': 'Esteban Ocon', 'team': 'Alpine', 'country': 'France', 'podiums': '3', 'points': '409', 'grands_prix_entered': '130', 'world_championships': 'N/A', 'highest_race_finish': '1 (x1)', 'highest_grid_position': '3', 'date_of_birth': '17/09/1996', 'place_of_birth': 'Évreux, Normandy'}\n",
      "----------------------------------------\n",
      "\n",
      "{'name': 'Alexander Albon', 'team': 'Williams', 'country': 'Thailand', 'podiums': '2', 'points': '228', 'grands_prix_entered': '78', 'world_championships': 'N/A', 'highest_race_finish': '3 (x2)', 'highest_grid_position': '4', 'date_of_birth': '23/03/1996', 'place_of_birth': 'London, England'}\n",
      "----------------------------------------\n",
      "\n",
      "{'name': 'Valtteri Bottas', 'team': 'Alfa Romeo', 'country': 'Finland', 'podiums': '67', 'points': '1797', 'grands_prix_entered': '219', 'world_championships': 'N/A', 'highest_race_finish': '1 (x10)', 'highest_grid_position': '1', 'date_of_birth': '28/08/1989', 'place_of_birth': 'Nastola, Finland'}\n",
      "----------------------------------------\n",
      "\n",
      "{'name': 'Nico Hulkenberg', 'team': 'Haas F1 Team', 'country': 'Germany', 'podiums': 'N/A', 'points': '530', 'grands_prix_entered': '203', 'world_championships': 'N/A', 'highest_race_finish': '4 (x3)', 'highest_grid_position': '1', 'date_of_birth': '19/08/1987', 'place_of_birth': 'Emmerich am Rhein, Germany'}\n",
      "----------------------------------------\n",
      "\n",
      "{'name': 'Yuki Tsunoda', 'team': 'AlphaTauri', 'country': 'Japan', 'podiums': 'N/A', 'points': '52', 'grands_prix_entered': '63', 'world_championships': 'N/A', 'highest_race_finish': '4 (x1)', 'highest_grid_position': '7', 'date_of_birth': '11/05/2000', 'place_of_birth': 'Sagamihara, Japan'}\n",
      "----------------------------------------\n",
      "\n",
      "{'name': 'Daniel Ricciardo', 'team': 'AlphaTauri', 'country': 'Australia', 'podiums': '32', 'points': '1317', 'grands_prix_entered': '236', 'world_championships': 'N/A', 'highest_race_finish': '1 (x8)', 'highest_grid_position': '1', 'date_of_birth': '01/07/1989', 'place_of_birth': 'Perth, Australia'}\n",
      "----------------------------------------\n",
      "\n",
      "{'name': 'Zhou Guanyu', 'team': 'Alfa Romeo', 'country': 'China', 'podiums': 'N/A', 'points': '12', 'grands_prix_entered': '41', 'world_championships': 'N/A', 'highest_race_finish': '8 (x1)', 'highest_grid_position': '5', 'date_of_birth': '30/05/1999', 'place_of_birth': 'Shanghai, China'}\n",
      "----------------------------------------\n",
      "\n",
      "{'name': 'Kevin Magnussen', 'team': 'Haas F1 Team', 'country': 'Denmark', 'podiums': '1', 'points': '186', 'grands_prix_entered': '161', 'world_championships': 'N/A', 'highest_race_finish': '2 (x1)', 'highest_grid_position': '4', 'date_of_birth': '05/10/1992', 'place_of_birth': 'Roskilde, Denmark'}\n",
      "----------------------------------------\n",
      "\n",
      "{'name': 'ERROR DATA', 'team': '', 'country': '', 'podiums': '', 'points': '', 'grands_prix_entered': '', 'world_championships': '', 'highest_race_finish': '', 'highest_grid_position': '', 'date_of_birth': '', 'place_of_birth': ''}\n",
      "----------------------------------------\n",
      "\n",
      "{'name': 'Logan Sargeant', 'team': 'Williams', 'country': 'United States', 'podiums': 'N/A', 'points': '1', 'grands_prix_entered': '19', 'world_championships': 'N/A', 'highest_race_finish': '10 (x1)', 'highest_grid_position': '10', 'date_of_birth': '31/12/2000', 'place_of_birth': 'Fort Lauderdale, Florida'}\n",
      "----------------------------------------\n",
      "\n",
      "{'name': 'ERROR DATA', 'team': '', 'country': '', 'podiums': '', 'points': '', 'grands_prix_entered': '', 'world_championships': '', 'highest_race_finish': '', 'highest_grid_position': '', 'date_of_birth': '', 'place_of_birth': ''}\n"
     ]
    }
   ],
   "source": [
    "drivers = list()\n",
    "\n",
    "for link in links:\n",
    "    driver_data = Driver(link)\n",
    "    driver_data.crawl_process()\n",
    "    drivers.append(driver_data)\n",
    "\n",
    "for driver in drivers:\n",
    "    print('----------------------------------------\\n')\n",
    "    print(driver.data_storage() )"
   ]
  },
  {
   "cell_type": "code",
   "execution_count": 6,
   "metadata": {},
   "outputs": [],
   "source": [
    "\n",
    "# Specify the file path where you want to save the JSON file\n",
    "file_path = 'data.json'\n",
    "def custom_serializer(obj):\n",
    "    if isinstance(obj, Driver):\n",
    "        return obj.data_storage()\n",
    "    \n",
    "with open(file_path, 'w') as json_file:\n",
    "    json.dump(drivers, json_file, default=custom_serializer, indent=4)\n"
   ]
  }
 ],
 "metadata": {
  "kernelspec": {
   "display_name": "venv",
   "language": "python",
   "name": "python3"
  },
  "language_info": {
   "codemirror_mode": {
    "name": "ipython",
    "version": 3
   },
   "file_extension": ".py",
   "mimetype": "text/x-python",
   "name": "python",
   "nbconvert_exporter": "python",
   "pygments_lexer": "ipython3",
   "version": "3.12.0"
  }
 },
 "nbformat": 4,
 "nbformat_minor": 2
}
