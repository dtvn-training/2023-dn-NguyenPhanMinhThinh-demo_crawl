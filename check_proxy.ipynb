{
 "cells": [
  {
   "cell_type": "code",
   "execution_count": 16,
   "metadata": {},
   "outputs": [],
   "source": [
    "import threading\n",
    "import queue\n",
    "import requests"
   ]
  },
  {
   "cell_type": "code",
   "execution_count": 17,
   "metadata": {},
   "outputs": [],
   "source": [
    "q = queue.Queue()\n",
    "valid_proxies = []"
   ]
  },
  {
   "cell_type": "code",
   "execution_count": 18,
   "metadata": {},
   "outputs": [],
   "source": [
    "with open(\"proxy_list.txt\", \"r\") as f:\n",
    "    proxies = f.read().split('\\n')\n",
    "    for p in proxies:\n",
    "        q.put(p)"
   ]
  },
  {
   "cell_type": "code",
   "execution_count": 19,
   "metadata": {},
   "outputs": [],
   "source": [
    "def check_proxies():\n",
    "    global q\n",
    "    while not q.empty():\n",
    "        proxy = q.get()\n",
    "        try:\n",
    "            res = requests.get(\"https://ipinfo.io/json\",\n",
    "                               proxies={\n",
    "                                   \"http\": proxy,\n",
    "                                   \"https\": proxy\n",
    "                               })\n",
    "        except:\n",
    "            continue\n",
    "        if res.status_code == 200:\n",
    "            with open(\"valid_proxy_list.txt\", \"a\") as file:\n",
    "                text_to_append = f\"{proxy}\\n\"\n",
    "                file.write(text_to_append)\n",
    "\n"
   ]
  },
  {
   "cell_type": "code",
   "execution_count": 20,
   "metadata": {},
   "outputs": [],
   "source": [
    "with open(\"valid_proxy_list.txt\", \"w\") as file:\n",
    "    pass\n",
    "# for _ in range(10):\n",
    "#     threading.Thread(target=check_proxies).start()"
   ]
  }
 ],
 "metadata": {
  "kernelspec": {
   "display_name": "venv",
   "language": "python",
   "name": "python3"
  },
  "language_info": {
   "codemirror_mode": {
    "name": "ipython",
    "version": 3
   },
   "file_extension": ".py",
   "mimetype": "text/x-python",
   "name": "python",
   "nbconvert_exporter": "python",
   "pygments_lexer": "ipython3",
   "version": "3.12.0"
  }
 },
 "nbformat": 4,
 "nbformat_minor": 2
}
